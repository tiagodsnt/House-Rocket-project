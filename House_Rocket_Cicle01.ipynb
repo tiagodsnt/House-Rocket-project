{
  "nbformat": 4,
  "nbformat_minor": 0,
  "metadata": {
    "colab": {
      "name": "House_Rocket_Cicle01.ipynb",
      "provenance": [],
      "authorship_tag": "ABX9TyNPUPXriqGH7vCWLvpstII2",
      "include_colab_link": true
    },
    "kernelspec": {
      "name": "python3",
      "display_name": "Python 3"
    },
    "language_info": {
      "name": "python"
    }
  },
  "cells": [
    {
      "cell_type": "markdown",
      "metadata": {
        "id": "view-in-github",
        "colab_type": "text"
      },
      "source": [
        "<a href=\"https://colab.research.google.com/github/tiagodsnt/House-Rocket-project/blob/main/House_Rocket_Cicle01.ipynb\" target=\"_parent\"><img src=\"https://colab.research.google.com/assets/colab-badge.svg\" alt=\"Open In Colab\"/></a>"
      ]
    },
    {
      "cell_type": "markdown",
      "metadata": {
        "id": "KLlsMP5xie4G"
      },
      "source": [
        "# Imports"
      ]
    },
    {
      "cell_type": "code",
      "metadata": {
        "id": "J7P1n-zyji4N"
      },
      "source": [
        "import pandas as pd\n",
        "from sklearn import linear_model as lm"
      ],
      "execution_count": 46,
      "outputs": []
    },
    {
      "cell_type": "markdown",
      "metadata": {
        "id": "8I2A1HktjQjt"
      },
      "source": [
        "# Loading Data"
      ]
    },
    {
      "cell_type": "code",
      "metadata": {
        "id": "vAgTwLL9mmPp"
      },
      "source": [
        "df_raw = pd.read_csv('kc_house_data.csv')"
      ],
      "execution_count": 74,
      "outputs": []
    },
    {
      "cell_type": "code",
      "metadata": {
        "id": "sDInjbnznTBx"
      },
      "source": [
        "df_raw.head()"
      ],
      "execution_count": null,
      "outputs": []
    },
    {
      "cell_type": "markdown",
      "metadata": {
        "id": "WubGXveYjRV2"
      },
      "source": [
        "# Data Preparation"
      ]
    },
    {
      "cell_type": "code",
      "metadata": {
        "id": "ZVXsu2fKmms3"
      },
      "source": [
        "# features\n",
        "x_train = df_raw.drop(['date','price'], axis=1)\n",
        "\n",
        "# response variable\n",
        "y_train = df_raw1"
      ],
      "execution_count": null,
      "outputs": []
    },
    {
      "cell_type": "markdown",
      "metadata": {
        "id": "ZZqwd6NnjRcF"
      },
      "source": [
        "# Model Training"
      ]
    },
    {
      "cell_type": "code",
      "metadata": {
        "id": "CObVtSl9mnRf"
      },
      "source": [
        "# Model description\n",
        "model_lr = lm.LinearRegression()\n",
        "\n",
        "# Model training\n",
        "model_lr.fit( x_train , y_train )"
      ],
      "execution_count": null,
      "outputs": []
    },
    {
      "cell_type": "markdown",
      "metadata": {
        "id": "8aYllNJJjRtu"
      },
      "source": [
        "# Performance Metrics"
      ]
    },
    {
      "cell_type": "code",
      "metadata": {
        "id": "SQ8iuTqEmnyn"
      },
      "source": [
        ""
      ],
      "execution_count": null,
      "outputs": []
    }
  ]
}